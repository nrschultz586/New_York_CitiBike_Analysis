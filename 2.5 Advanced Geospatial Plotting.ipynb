{
 "cells": [
  {
   "cell_type": "code",
   "execution_count": 1,
   "id": "a77c2360-e6d7-4ca2-84c4-44111d4d26eb",
   "metadata": {},
   "outputs": [],
   "source": [
    "# import libraries\n",
    "\n",
    "import pandas as pd\n",
    "import os\n",
    "from keplergl import KeplerGl\n",
    "from pyproj import CRS\n",
    "import numpy as np\n",
    "from matplotlib import pyplot as plt"
   ]
  },
  {
   "cell_type": "code",
   "execution_count": 2,
   "id": "629a916d-0309-450a-a643-3ab373cb29c2",
   "metadata": {},
   "outputs": [],
   "source": [
    "#set path\n",
    "path = r'C:\\Users\\nrsmi\\Documents\\CareerFoundry\\New_York_CitiBike_Analysis'"
   ]
  },
  {
   "cell_type": "code",
   "execution_count": 3,
   "id": "4b15c1f3-2c6d-4f87-80c4-d86c9741dc10",
   "metadata": {},
   "outputs": [
    {
     "name": "stderr",
     "output_type": "stream",
     "text": [
      "C:\\Users\\nrsmi\\AppData\\Local\\Temp\\ipykernel_18272\\2100087590.py:2: DtypeWarning: Columns (7,9) have mixed types. Specify dtype option on import or set low_memory=False.\n",
      "  df = pd.read_csv(os.path.join(path, 'Data', 'Prepared_Data', 'Weather_DailyBikeRides_RideDuration_cleaned.csv'), index_col = 0 )\n"
     ]
    }
   ],
   "source": [
    "# import df\n",
    "df = pd.read_csv(os.path.join(path, 'Data', 'Prepared_Data', 'Weather_DailyBikeRides_RideDuration_cleaned.csv'), index_col = 0 )"
   ]
  },
  {
   "cell_type": "code",
   "execution_count": 4,
   "id": "7f1f1f67-f0d0-4825-8001-bb9b90aa8cf1",
   "metadata": {},
   "outputs": [
    {
     "data": {
      "text/html": [
       "<div>\n",
       "<style scoped>\n",
       "    .dataframe tbody tr th:only-of-type {\n",
       "        vertical-align: middle;\n",
       "    }\n",
       "\n",
       "    .dataframe tbody tr th {\n",
       "        vertical-align: top;\n",
       "    }\n",
       "\n",
       "    .dataframe thead th {\n",
       "        text-align: right;\n",
       "    }\n",
       "</style>\n",
       "<table border=\"1\" class=\"dataframe\">\n",
       "  <thead>\n",
       "    <tr style=\"text-align: right;\">\n",
       "      <th></th>\n",
       "      <th>date</th>\n",
       "      <th>ride_id</th>\n",
       "      <th>rideable_type</th>\n",
       "      <th>started_at</th>\n",
       "      <th>ended_at</th>\n",
       "      <th>start_station_name</th>\n",
       "      <th>start_station_id</th>\n",
       "      <th>end_station_name</th>\n",
       "      <th>end_station_id</th>\n",
       "      <th>start_lat</th>\n",
       "      <th>start_lng</th>\n",
       "      <th>end_lat</th>\n",
       "      <th>end_lng</th>\n",
       "      <th>member_casual</th>\n",
       "      <th>avgTemp</th>\n",
       "      <th>bike_rides_daily</th>\n",
       "      <th>ride_duration</th>\n",
       "    </tr>\n",
       "  </thead>\n",
       "  <tbody>\n",
       "    <tr>\n",
       "      <th>0</th>\n",
       "      <td>2022-01-01</td>\n",
       "      <td>4A091640AEC83471</td>\n",
       "      <td>classic_bike</td>\n",
       "      <td>2022-01-01 16:01:22.082</td>\n",
       "      <td>2022-01-01 16:05:11.986</td>\n",
       "      <td>S 4 St &amp; Wythe Ave</td>\n",
       "      <td>5204.05</td>\n",
       "      <td>Kent Ave &amp; S 11 St</td>\n",
       "      <td>5062.01</td>\n",
       "      <td>40.712859</td>\n",
       "      <td>-73.965903</td>\n",
       "      <td>40.707645</td>\n",
       "      <td>-73.968415</td>\n",
       "      <td>member</td>\n",
       "      <td>11.6</td>\n",
       "      <td>20428</td>\n",
       "      <td>3.831733</td>\n",
       "    </tr>\n",
       "    <tr>\n",
       "      <th>1</th>\n",
       "      <td>2022-01-01</td>\n",
       "      <td>7A560D6287C00126</td>\n",
       "      <td>classic_bike</td>\n",
       "      <td>2022-01-01 14:07:04.344</td>\n",
       "      <td>2022-01-01 14:31:57.500</td>\n",
       "      <td>Lexington Ave &amp; E 120 St</td>\n",
       "      <td>7652.04</td>\n",
       "      <td>Amsterdam Ave &amp; W 125 St</td>\n",
       "      <td>7800.03</td>\n",
       "      <td>40.801307</td>\n",
       "      <td>-73.939817</td>\n",
       "      <td>40.813358</td>\n",
       "      <td>-73.956461</td>\n",
       "      <td>member</td>\n",
       "      <td>11.6</td>\n",
       "      <td>20428</td>\n",
       "      <td>24.885933</td>\n",
       "    </tr>\n",
       "    <tr>\n",
       "      <th>2</th>\n",
       "      <td>2022-01-01</td>\n",
       "      <td>4F6F726B809C15E4</td>\n",
       "      <td>classic_bike</td>\n",
       "      <td>2022-01-01 12:02:26.943</td>\n",
       "      <td>2022-01-01 12:14:13.555</td>\n",
       "      <td>Lexington Ave &amp; E 120 St</td>\n",
       "      <td>7652.04</td>\n",
       "      <td>Amsterdam Ave &amp; W 125 St</td>\n",
       "      <td>7800.03</td>\n",
       "      <td>40.801307</td>\n",
       "      <td>-73.939817</td>\n",
       "      <td>40.813358</td>\n",
       "      <td>-73.956461</td>\n",
       "      <td>member</td>\n",
       "      <td>11.6</td>\n",
       "      <td>20428</td>\n",
       "      <td>11.776867</td>\n",
       "    </tr>\n",
       "    <tr>\n",
       "      <th>3</th>\n",
       "      <td>2022-01-01</td>\n",
       "      <td>3BC10DC94FD79955</td>\n",
       "      <td>classic_bike</td>\n",
       "      <td>2022-01-01 22:53:23.508</td>\n",
       "      <td>2022-01-01 23:18:42.881</td>\n",
       "      <td>Cleveland Pl &amp; Spring St</td>\n",
       "      <td>5492.05</td>\n",
       "      <td>Mott St &amp; Prince St</td>\n",
       "      <td>5561.04</td>\n",
       "      <td>40.722104</td>\n",
       "      <td>-73.997249</td>\n",
       "      <td>40.723180</td>\n",
       "      <td>-73.994800</td>\n",
       "      <td>member</td>\n",
       "      <td>11.6</td>\n",
       "      <td>20428</td>\n",
       "      <td>25.322883</td>\n",
       "    </tr>\n",
       "    <tr>\n",
       "      <th>4</th>\n",
       "      <td>2022-01-01</td>\n",
       "      <td>FE4CE7F1CFFD7952</td>\n",
       "      <td>classic_bike</td>\n",
       "      <td>2022-01-01 08:04:51.755</td>\n",
       "      <td>2022-01-01 08:08:07.290</td>\n",
       "      <td>Central Park North &amp; Adam Clayton Powell Blvd</td>\n",
       "      <td>7617.07</td>\n",
       "      <td>E 110 St &amp; Madison Ave</td>\n",
       "      <td>7587.14</td>\n",
       "      <td>40.799484</td>\n",
       "      <td>-73.955613</td>\n",
       "      <td>40.796154</td>\n",
       "      <td>-73.947821</td>\n",
       "      <td>member</td>\n",
       "      <td>11.6</td>\n",
       "      <td>20428</td>\n",
       "      <td>3.258917</td>\n",
       "    </tr>\n",
       "  </tbody>\n",
       "</table>\n",
       "</div>"
      ],
      "text/plain": [
       "         date           ride_id rideable_type               started_at  \\\n",
       "0  2022-01-01  4A091640AEC83471  classic_bike  2022-01-01 16:01:22.082   \n",
       "1  2022-01-01  7A560D6287C00126  classic_bike  2022-01-01 14:07:04.344   \n",
       "2  2022-01-01  4F6F726B809C15E4  classic_bike  2022-01-01 12:02:26.943   \n",
       "3  2022-01-01  3BC10DC94FD79955  classic_bike  2022-01-01 22:53:23.508   \n",
       "4  2022-01-01  FE4CE7F1CFFD7952  classic_bike  2022-01-01 08:04:51.755   \n",
       "\n",
       "                  ended_at                             start_station_name  \\\n",
       "0  2022-01-01 16:05:11.986                             S 4 St & Wythe Ave   \n",
       "1  2022-01-01 14:31:57.500                       Lexington Ave & E 120 St   \n",
       "2  2022-01-01 12:14:13.555                       Lexington Ave & E 120 St   \n",
       "3  2022-01-01 23:18:42.881                       Cleveland Pl & Spring St   \n",
       "4  2022-01-01 08:08:07.290  Central Park North & Adam Clayton Powell Blvd   \n",
       "\n",
       "  start_station_id          end_station_name end_station_id  start_lat  \\\n",
       "0          5204.05        Kent Ave & S 11 St        5062.01  40.712859   \n",
       "1          7652.04  Amsterdam Ave & W 125 St        7800.03  40.801307   \n",
       "2          7652.04  Amsterdam Ave & W 125 St        7800.03  40.801307   \n",
       "3          5492.05       Mott St & Prince St        5561.04  40.722104   \n",
       "4          7617.07    E 110 St & Madison Ave        7587.14  40.799484   \n",
       "\n",
       "   start_lng    end_lat    end_lng member_casual  avgTemp  bike_rides_daily  \\\n",
       "0 -73.965903  40.707645 -73.968415        member     11.6             20428   \n",
       "1 -73.939817  40.813358 -73.956461        member     11.6             20428   \n",
       "2 -73.939817  40.813358 -73.956461        member     11.6             20428   \n",
       "3 -73.997249  40.723180 -73.994800        member     11.6             20428   \n",
       "4 -73.955613  40.796154 -73.947821        member     11.6             20428   \n",
       "\n",
       "   ride_duration  \n",
       "0       3.831733  \n",
       "1      24.885933  \n",
       "2      11.776867  \n",
       "3      25.322883  \n",
       "4       3.258917  "
      ]
     },
     "execution_count": 4,
     "metadata": {},
     "output_type": "execute_result"
    }
   ],
   "source": [
    "df.head()"
   ]
  },
  {
   "cell_type": "code",
   "execution_count": 5,
   "id": "9f56050a-cc69-4174-a5fa-2b918d9cb735",
   "metadata": {},
   "outputs": [
    {
     "data": {
      "text/plain": [
       "(29767925, 17)"
      ]
     },
     "execution_count": 5,
     "metadata": {},
     "output_type": "execute_result"
    }
   ],
   "source": [
    "df.shape"
   ]
  },
  {
   "cell_type": "markdown",
   "id": "d427a79b-3d78-4882-ad66-e9ab22e6896d",
   "metadata": {},
   "source": [
    "# 3. In the data set from the previous task, create a new column with the value of 1. Then create a new aggregated dataframe that contains 3 columns: starting station, ending station, and the count of trips between those stations."
   ]
  },
  {
   "cell_type": "code",
   "execution_count": 7,
   "id": "bf45e67d-21cf-47d1-a768-ad1234aba3ab",
   "metadata": {},
   "outputs": [],
   "source": [
    "# Create a value column and group by start and end station \n",
    "\n",
    "df['value'] = 1\n",
    "df_group = df.groupby(['start_station_name', 'end_station_name'])['value'].count().reset_index()"
   ]
  },
  {
   "cell_type": "code",
   "execution_count": 8,
   "id": "da7af777-0879-4cb4-a68c-b75652be3ce0",
   "metadata": {},
   "outputs": [
    {
     "data": {
      "text/html": [
       "<div>\n",
       "<style scoped>\n",
       "    .dataframe tbody tr th:only-of-type {\n",
       "        vertical-align: middle;\n",
       "    }\n",
       "\n",
       "    .dataframe tbody tr th {\n",
       "        vertical-align: top;\n",
       "    }\n",
       "\n",
       "    .dataframe thead th {\n",
       "        text-align: right;\n",
       "    }\n",
       "</style>\n",
       "<table border=\"1\" class=\"dataframe\">\n",
       "  <thead>\n",
       "    <tr style=\"text-align: right;\">\n",
       "      <th></th>\n",
       "      <th>start_station_name</th>\n",
       "      <th>end_station_name</th>\n",
       "      <th>value</th>\n",
       "    </tr>\n",
       "  </thead>\n",
       "  <tbody>\n",
       "    <tr>\n",
       "      <th>0</th>\n",
       "      <td>1 Ave &amp; E 110 St</td>\n",
       "      <td>1 Ave &amp; E 110 St</td>\n",
       "      <td>791</td>\n",
       "    </tr>\n",
       "    <tr>\n",
       "      <th>1</th>\n",
       "      <td>1 Ave &amp; E 110 St</td>\n",
       "      <td>1 Ave &amp; E 18 St</td>\n",
       "      <td>2</td>\n",
       "    </tr>\n",
       "    <tr>\n",
       "      <th>2</th>\n",
       "      <td>1 Ave &amp; E 110 St</td>\n",
       "      <td>1 Ave &amp; E 30 St</td>\n",
       "      <td>4</td>\n",
       "    </tr>\n",
       "    <tr>\n",
       "      <th>3</th>\n",
       "      <td>1 Ave &amp; E 110 St</td>\n",
       "      <td>1 Ave &amp; E 39 St</td>\n",
       "      <td>1</td>\n",
       "    </tr>\n",
       "    <tr>\n",
       "      <th>4</th>\n",
       "      <td>1 Ave &amp; E 110 St</td>\n",
       "      <td>1 Ave &amp; E 44 St</td>\n",
       "      <td>12</td>\n",
       "    </tr>\n",
       "    <tr>\n",
       "      <th>...</th>\n",
       "      <td>...</td>\n",
       "      <td>...</td>\n",
       "      <td>...</td>\n",
       "    </tr>\n",
       "    <tr>\n",
       "      <th>1013374</th>\n",
       "      <td>Yankee Ferry Terminal</td>\n",
       "      <td>Water St &amp; Main St</td>\n",
       "      <td>4</td>\n",
       "    </tr>\n",
       "    <tr>\n",
       "      <th>1013375</th>\n",
       "      <td>Yankee Ferry Terminal</td>\n",
       "      <td>West St &amp; Chambers St</td>\n",
       "      <td>6</td>\n",
       "    </tr>\n",
       "    <tr>\n",
       "      <th>1013376</th>\n",
       "      <td>Yankee Ferry Terminal</td>\n",
       "      <td>West St &amp; Liberty St</td>\n",
       "      <td>4</td>\n",
       "    </tr>\n",
       "    <tr>\n",
       "      <th>1013377</th>\n",
       "      <td>Yankee Ferry Terminal</td>\n",
       "      <td>West Thames St</td>\n",
       "      <td>1</td>\n",
       "    </tr>\n",
       "    <tr>\n",
       "      <th>1013378</th>\n",
       "      <td>Yankee Ferry Terminal</td>\n",
       "      <td>Yankee Ferry Terminal</td>\n",
       "      <td>5759</td>\n",
       "    </tr>\n",
       "  </tbody>\n",
       "</table>\n",
       "<p>1013379 rows × 3 columns</p>\n",
       "</div>"
      ],
      "text/plain": [
       "            start_station_name       end_station_name  value\n",
       "0             1 Ave & E 110 St       1 Ave & E 110 St    791\n",
       "1             1 Ave & E 110 St        1 Ave & E 18 St      2\n",
       "2             1 Ave & E 110 St        1 Ave & E 30 St      4\n",
       "3             1 Ave & E 110 St        1 Ave & E 39 St      1\n",
       "4             1 Ave & E 110 St        1 Ave & E 44 St     12\n",
       "...                        ...                    ...    ...\n",
       "1013374  Yankee Ferry Terminal     Water St & Main St      4\n",
       "1013375  Yankee Ferry Terminal  West St & Chambers St      6\n",
       "1013376  Yankee Ferry Terminal   West St & Liberty St      4\n",
       "1013377  Yankee Ferry Terminal         West Thames St      1\n",
       "1013378  Yankee Ferry Terminal  Yankee Ferry Terminal   5759\n",
       "\n",
       "[1013379 rows x 3 columns]"
      ]
     },
     "execution_count": 8,
     "metadata": {},
     "output_type": "execute_result"
    }
   ],
   "source": [
    "df_group"
   ]
  },
  {
   "cell_type": "code",
   "execution_count": 9,
   "id": "d1fe9fea-926a-4a35-8a87-a6db66d48805",
   "metadata": {},
   "outputs": [
    {
     "name": "stdout",
     "output_type": "stream",
     "text": [
      "29767925\n",
      "(29767925, 18)\n"
     ]
    }
   ],
   "source": [
    "print(df_group['value'].sum())\n",
    "print(df.shape)"
   ]
  },
  {
   "cell_type": "code",
   "execution_count": 10,
   "id": "e1471198-0f9e-4858-94b8-53953281f7ec",
   "metadata": {},
   "outputs": [],
   "source": [
    "#df_group.to_csv(os.path.join(path, 'Data','Prepared_Data', 'start_end_station_trip_count.csv'))"
   ]
  },
  {
   "cell_type": "markdown",
   "id": "46412d56-3b0b-4e20-bac9-19765d3ba7b0",
   "metadata": {},
   "source": [
    "# 4. Initialize an instance of a kepler.gl map."
   ]
  },
  {
   "cell_type": "code",
   "execution_count": 12,
   "id": "3466ed0c-4461-448a-a475-fe094d37960d",
   "metadata": {},
   "outputs": [],
   "source": [
    "# Create a new DataFrame with the necessary columns\n",
    "df_stations = df[['start_station_name', 'end_station_name', 'start_lat', 'start_lng', 'end_lat', 'end_lng']]"
   ]
  },
  {
   "cell_type": "code",
   "execution_count": 13,
   "id": "03848657-3312-4e23-abb5-b31fcb2cf48f",
   "metadata": {},
   "outputs": [
    {
     "data": {
      "text/html": [
       "<div>\n",
       "<style scoped>\n",
       "    .dataframe tbody tr th:only-of-type {\n",
       "        vertical-align: middle;\n",
       "    }\n",
       "\n",
       "    .dataframe tbody tr th {\n",
       "        vertical-align: top;\n",
       "    }\n",
       "\n",
       "    .dataframe thead th {\n",
       "        text-align: right;\n",
       "    }\n",
       "</style>\n",
       "<table border=\"1\" class=\"dataframe\">\n",
       "  <thead>\n",
       "    <tr style=\"text-align: right;\">\n",
       "      <th></th>\n",
       "      <th>start_station_name</th>\n",
       "      <th>end_station_name</th>\n",
       "      <th>start_lat</th>\n",
       "      <th>start_lng</th>\n",
       "      <th>end_lat</th>\n",
       "      <th>end_lng</th>\n",
       "    </tr>\n",
       "  </thead>\n",
       "  <tbody>\n",
       "    <tr>\n",
       "      <th>0</th>\n",
       "      <td>S 4 St &amp; Wythe Ave</td>\n",
       "      <td>Kent Ave &amp; S 11 St</td>\n",
       "      <td>40.712859</td>\n",
       "      <td>-73.965903</td>\n",
       "      <td>40.707645</td>\n",
       "      <td>-73.968415</td>\n",
       "    </tr>\n",
       "    <tr>\n",
       "      <th>1</th>\n",
       "      <td>Lexington Ave &amp; E 120 St</td>\n",
       "      <td>Amsterdam Ave &amp; W 125 St</td>\n",
       "      <td>40.801307</td>\n",
       "      <td>-73.939817</td>\n",
       "      <td>40.813358</td>\n",
       "      <td>-73.956461</td>\n",
       "    </tr>\n",
       "    <tr>\n",
       "      <th>2</th>\n",
       "      <td>Lexington Ave &amp; E 120 St</td>\n",
       "      <td>Amsterdam Ave &amp; W 125 St</td>\n",
       "      <td>40.801307</td>\n",
       "      <td>-73.939817</td>\n",
       "      <td>40.813358</td>\n",
       "      <td>-73.956461</td>\n",
       "    </tr>\n",
       "    <tr>\n",
       "      <th>3</th>\n",
       "      <td>Cleveland Pl &amp; Spring St</td>\n",
       "      <td>Mott St &amp; Prince St</td>\n",
       "      <td>40.722104</td>\n",
       "      <td>-73.997249</td>\n",
       "      <td>40.723180</td>\n",
       "      <td>-73.994800</td>\n",
       "    </tr>\n",
       "    <tr>\n",
       "      <th>4</th>\n",
       "      <td>Central Park North &amp; Adam Clayton Powell Blvd</td>\n",
       "      <td>E 110 St &amp; Madison Ave</td>\n",
       "      <td>40.799484</td>\n",
       "      <td>-73.955613</td>\n",
       "      <td>40.796154</td>\n",
       "      <td>-73.947821</td>\n",
       "    </tr>\n",
       "  </tbody>\n",
       "</table>\n",
       "</div>"
      ],
      "text/plain": [
       "                              start_station_name          end_station_name  \\\n",
       "0                             S 4 St & Wythe Ave        Kent Ave & S 11 St   \n",
       "1                       Lexington Ave & E 120 St  Amsterdam Ave & W 125 St   \n",
       "2                       Lexington Ave & E 120 St  Amsterdam Ave & W 125 St   \n",
       "3                       Cleveland Pl & Spring St       Mott St & Prince St   \n",
       "4  Central Park North & Adam Clayton Powell Blvd    E 110 St & Madison Ave   \n",
       "\n",
       "   start_lat  start_lng    end_lat    end_lng  \n",
       "0  40.712859 -73.965903  40.707645 -73.968415  \n",
       "1  40.801307 -73.939817  40.813358 -73.956461  \n",
       "2  40.801307 -73.939817  40.813358 -73.956461  \n",
       "3  40.722104 -73.997249  40.723180 -73.994800  \n",
       "4  40.799484 -73.955613  40.796154 -73.947821  "
      ]
     },
     "execution_count": 13,
     "metadata": {},
     "output_type": "execute_result"
    }
   ],
   "source": [
    "df_stations.head()"
   ]
  },
  {
   "cell_type": "code",
   "execution_count": 14,
   "id": "4662bab4-0295-4e07-aa1e-2ef56121bdff",
   "metadata": {},
   "outputs": [],
   "source": [
    "# Merge the station df with the grouped df\n",
    "df_stations = pd.merge(\n",
    "    df_stations,\n",
    "    df_group.rename(columns={'value': 'trips'}),\n",
    "    on=['start_station_name', 'end_station_name'],\n",
    "    how='left'  # Use 'left' to ensure all rows from df_stations are retained\n",
    ")"
   ]
  },
  {
   "cell_type": "code",
   "execution_count": 15,
   "id": "d285ceb7-ef3e-49e8-99e9-e45b1219c5d1",
   "metadata": {},
   "outputs": [
    {
     "data": {
      "text/html": [
       "<div>\n",
       "<style scoped>\n",
       "    .dataframe tbody tr th:only-of-type {\n",
       "        vertical-align: middle;\n",
       "    }\n",
       "\n",
       "    .dataframe tbody tr th {\n",
       "        vertical-align: top;\n",
       "    }\n",
       "\n",
       "    .dataframe thead th {\n",
       "        text-align: right;\n",
       "    }\n",
       "</style>\n",
       "<table border=\"1\" class=\"dataframe\">\n",
       "  <thead>\n",
       "    <tr style=\"text-align: right;\">\n",
       "      <th></th>\n",
       "      <th>start_station_name</th>\n",
       "      <th>end_station_name</th>\n",
       "      <th>start_lat</th>\n",
       "      <th>start_lng</th>\n",
       "      <th>end_lat</th>\n",
       "      <th>end_lng</th>\n",
       "      <th>trips</th>\n",
       "    </tr>\n",
       "  </thead>\n",
       "  <tbody>\n",
       "    <tr>\n",
       "      <th>0</th>\n",
       "      <td>S 4 St &amp; Wythe Ave</td>\n",
       "      <td>Kent Ave &amp; S 11 St</td>\n",
       "      <td>40.712859</td>\n",
       "      <td>-73.965903</td>\n",
       "      <td>40.707645</td>\n",
       "      <td>-73.968415</td>\n",
       "      <td>94</td>\n",
       "    </tr>\n",
       "    <tr>\n",
       "      <th>1</th>\n",
       "      <td>Lexington Ave &amp; E 120 St</td>\n",
       "      <td>Amsterdam Ave &amp; W 125 St</td>\n",
       "      <td>40.801307</td>\n",
       "      <td>-73.939817</td>\n",
       "      <td>40.813358</td>\n",
       "      <td>-73.956461</td>\n",
       "      <td>74</td>\n",
       "    </tr>\n",
       "    <tr>\n",
       "      <th>2</th>\n",
       "      <td>Lexington Ave &amp; E 120 St</td>\n",
       "      <td>Amsterdam Ave &amp; W 125 St</td>\n",
       "      <td>40.801307</td>\n",
       "      <td>-73.939817</td>\n",
       "      <td>40.813358</td>\n",
       "      <td>-73.956461</td>\n",
       "      <td>74</td>\n",
       "    </tr>\n",
       "    <tr>\n",
       "      <th>3</th>\n",
       "      <td>Cleveland Pl &amp; Spring St</td>\n",
       "      <td>Mott St &amp; Prince St</td>\n",
       "      <td>40.722104</td>\n",
       "      <td>-73.997249</td>\n",
       "      <td>40.723180</td>\n",
       "      <td>-73.994800</td>\n",
       "      <td>320</td>\n",
       "    </tr>\n",
       "    <tr>\n",
       "      <th>4</th>\n",
       "      <td>Central Park North &amp; Adam Clayton Powell Blvd</td>\n",
       "      <td>E 110 St &amp; Madison Ave</td>\n",
       "      <td>40.799484</td>\n",
       "      <td>-73.955613</td>\n",
       "      <td>40.796154</td>\n",
       "      <td>-73.947821</td>\n",
       "      <td>87</td>\n",
       "    </tr>\n",
       "  </tbody>\n",
       "</table>\n",
       "</div>"
      ],
      "text/plain": [
       "                              start_station_name          end_station_name  \\\n",
       "0                             S 4 St & Wythe Ave        Kent Ave & S 11 St   \n",
       "1                       Lexington Ave & E 120 St  Amsterdam Ave & W 125 St   \n",
       "2                       Lexington Ave & E 120 St  Amsterdam Ave & W 125 St   \n",
       "3                       Cleveland Pl & Spring St       Mott St & Prince St   \n",
       "4  Central Park North & Adam Clayton Powell Blvd    E 110 St & Madison Ave   \n",
       "\n",
       "   start_lat  start_lng    end_lat    end_lng  trips  \n",
       "0  40.712859 -73.965903  40.707645 -73.968415     94  \n",
       "1  40.801307 -73.939817  40.813358 -73.956461     74  \n",
       "2  40.801307 -73.939817  40.813358 -73.956461     74  \n",
       "3  40.722104 -73.997249  40.723180 -73.994800    320  \n",
       "4  40.799484 -73.955613  40.796154 -73.947821     87  "
      ]
     },
     "execution_count": 15,
     "metadata": {},
     "output_type": "execute_result"
    }
   ],
   "source": [
    "df_stations.head()"
   ]
  },
  {
   "cell_type": "code",
   "execution_count": 18,
   "id": "6c6d5b61-f492-46d5-8910-19910c3d6727",
   "metadata": {},
   "outputs": [
    {
     "name": "stdout",
     "output_type": "stream",
     "text": [
      "10857189955\n",
      "(29767925, 18)\n"
     ]
    }
   ],
   "source": [
    "print(df_stations['trips'].sum())\n",
    "print(df.shape)"
   ]
  },
  {
   "cell_type": "markdown",
   "id": "c26bb77f-a28b-4a7e-8010-98371face56e",
   "metadata": {},
   "source": [
    "### I noticed there are some duplicates, so let's get rid of those"
   ]
  },
  {
   "cell_type": "code",
   "execution_count": 32,
   "id": "a22442ac-41a4-4a55-af89-69db32563df6",
   "metadata": {},
   "outputs": [],
   "source": [
    "df_stations_dupes = df_stations[df_stations.duplicated(subset=['start_station_name', 'end_station_name', 'trips'])]"
   ]
  },
  {
   "cell_type": "code",
   "execution_count": 33,
   "id": "381de1c4-b0de-4bec-afe8-8ee6574bb1e7",
   "metadata": {},
   "outputs": [
    {
     "data": {
      "text/html": [
       "<div>\n",
       "<style scoped>\n",
       "    .dataframe tbody tr th:only-of-type {\n",
       "        vertical-align: middle;\n",
       "    }\n",
       "\n",
       "    .dataframe tbody tr th {\n",
       "        vertical-align: top;\n",
       "    }\n",
       "\n",
       "    .dataframe thead th {\n",
       "        text-align: right;\n",
       "    }\n",
       "</style>\n",
       "<table border=\"1\" class=\"dataframe\">\n",
       "  <thead>\n",
       "    <tr style=\"text-align: right;\">\n",
       "      <th></th>\n",
       "      <th>start_station_name</th>\n",
       "      <th>end_station_name</th>\n",
       "      <th>start_lat</th>\n",
       "      <th>start_lng</th>\n",
       "      <th>end_lat</th>\n",
       "      <th>end_lng</th>\n",
       "      <th>trips</th>\n",
       "    </tr>\n",
       "  </thead>\n",
       "  <tbody>\n",
       "    <tr>\n",
       "      <th>2</th>\n",
       "      <td>Lexington Ave &amp; E 120 St</td>\n",
       "      <td>Amsterdam Ave &amp; W 125 St</td>\n",
       "      <td>40.801307</td>\n",
       "      <td>-73.939817</td>\n",
       "      <td>40.813358</td>\n",
       "      <td>-73.956461</td>\n",
       "      <td>74</td>\n",
       "    </tr>\n",
       "    <tr>\n",
       "      <th>5</th>\n",
       "      <td>Central Park North &amp; Adam Clayton Powell Blvd</td>\n",
       "      <td>E 110 St &amp; Madison Ave</td>\n",
       "      <td>40.799484</td>\n",
       "      <td>-73.955613</td>\n",
       "      <td>40.796154</td>\n",
       "      <td>-73.947821</td>\n",
       "      <td>87</td>\n",
       "    </tr>\n",
       "    <tr>\n",
       "      <th>30</th>\n",
       "      <td>Grand St &amp; Elizabeth St</td>\n",
       "      <td>Mott St &amp; Prince St</td>\n",
       "      <td>40.718822</td>\n",
       "      <td>-73.995960</td>\n",
       "      <td>40.723180</td>\n",
       "      <td>-73.994800</td>\n",
       "      <td>335</td>\n",
       "    </tr>\n",
       "    <tr>\n",
       "      <th>33</th>\n",
       "      <td>Lafayette St &amp; Jersey St</td>\n",
       "      <td>Allen St &amp; Rivington St</td>\n",
       "      <td>40.724561</td>\n",
       "      <td>-73.995653</td>\n",
       "      <td>40.720196</td>\n",
       "      <td>-73.989978</td>\n",
       "      <td>387</td>\n",
       "    </tr>\n",
       "    <tr>\n",
       "      <th>40</th>\n",
       "      <td>Meserole Ave &amp; Manhattan Ave</td>\n",
       "      <td>N 6 St &amp; Bedford Ave</td>\n",
       "      <td>40.727086</td>\n",
       "      <td>-73.952991</td>\n",
       "      <td>40.717452</td>\n",
       "      <td>-73.958509</td>\n",
       "      <td>717</td>\n",
       "    </tr>\n",
       "    <tr>\n",
       "      <th>...</th>\n",
       "      <td>...</td>\n",
       "      <td>...</td>\n",
       "      <td>...</td>\n",
       "      <td>...</td>\n",
       "      <td>...</td>\n",
       "      <td>...</td>\n",
       "      <td>...</td>\n",
       "    </tr>\n",
       "    <tr>\n",
       "      <th>29767920</th>\n",
       "      <td>White St &amp; Moore St</td>\n",
       "      <td>Bleecker St &amp; Crosby St</td>\n",
       "      <td>40.704508</td>\n",
       "      <td>-73.935100</td>\n",
       "      <td>40.726156</td>\n",
       "      <td>-73.995102</td>\n",
       "      <td>4</td>\n",
       "    </tr>\n",
       "    <tr>\n",
       "      <th>29767921</th>\n",
       "      <td>Division St &amp; Bowery</td>\n",
       "      <td>Centre St &amp; Chambers St</td>\n",
       "      <td>40.714193</td>\n",
       "      <td>-73.996732</td>\n",
       "      <td>40.712733</td>\n",
       "      <td>-74.004607</td>\n",
       "      <td>532</td>\n",
       "    </tr>\n",
       "    <tr>\n",
       "      <th>29767922</th>\n",
       "      <td>W 30 St &amp; 10 Ave</td>\n",
       "      <td>W 20 St &amp; 8 Ave</td>\n",
       "      <td>40.752694</td>\n",
       "      <td>-74.002353</td>\n",
       "      <td>40.743453</td>\n",
       "      <td>-74.000040</td>\n",
       "      <td>504</td>\n",
       "    </tr>\n",
       "    <tr>\n",
       "      <th>29767923</th>\n",
       "      <td>5 Ave &amp; 37 St</td>\n",
       "      <td>6 Ave &amp; 9 St</td>\n",
       "      <td>40.652657</td>\n",
       "      <td>-74.002356</td>\n",
       "      <td>40.668127</td>\n",
       "      <td>-73.983776</td>\n",
       "      <td>63</td>\n",
       "    </tr>\n",
       "    <tr>\n",
       "      <th>29767924</th>\n",
       "      <td>W 30 St &amp; 10 Ave</td>\n",
       "      <td>W 20 St &amp; 8 Ave</td>\n",
       "      <td>40.752840</td>\n",
       "      <td>-74.002842</td>\n",
       "      <td>40.743453</td>\n",
       "      <td>-74.000040</td>\n",
       "      <td>504</td>\n",
       "    </tr>\n",
       "  </tbody>\n",
       "</table>\n",
       "<p>28754546 rows × 7 columns</p>\n",
       "</div>"
      ],
      "text/plain": [
       "                                     start_station_name  \\\n",
       "2                              Lexington Ave & E 120 St   \n",
       "5         Central Park North & Adam Clayton Powell Blvd   \n",
       "30                              Grand St & Elizabeth St   \n",
       "33                             Lafayette St & Jersey St   \n",
       "40                         Meserole Ave & Manhattan Ave   \n",
       "...                                                 ...   \n",
       "29767920                            White St & Moore St   \n",
       "29767921                           Division St & Bowery   \n",
       "29767922                               W 30 St & 10 Ave   \n",
       "29767923                                  5 Ave & 37 St   \n",
       "29767924                               W 30 St & 10 Ave   \n",
       "\n",
       "                  end_station_name  start_lat  start_lng    end_lat  \\\n",
       "2         Amsterdam Ave & W 125 St  40.801307 -73.939817  40.813358   \n",
       "5           E 110 St & Madison Ave  40.799484 -73.955613  40.796154   \n",
       "30             Mott St & Prince St  40.718822 -73.995960  40.723180   \n",
       "33         Allen St & Rivington St  40.724561 -73.995653  40.720196   \n",
       "40            N 6 St & Bedford Ave  40.727086 -73.952991  40.717452   \n",
       "...                            ...        ...        ...        ...   \n",
       "29767920   Bleecker St & Crosby St  40.704508 -73.935100  40.726156   \n",
       "29767921   Centre St & Chambers St  40.714193 -73.996732  40.712733   \n",
       "29767922           W 20 St & 8 Ave  40.752694 -74.002353  40.743453   \n",
       "29767923              6 Ave & 9 St  40.652657 -74.002356  40.668127   \n",
       "29767924           W 20 St & 8 Ave  40.752840 -74.002842  40.743453   \n",
       "\n",
       "            end_lng  trips  \n",
       "2        -73.956461     74  \n",
       "5        -73.947821     87  \n",
       "30       -73.994800    335  \n",
       "33       -73.989978    387  \n",
       "40       -73.958509    717  \n",
       "...             ...    ...  \n",
       "29767920 -73.995102      4  \n",
       "29767921 -74.004607    532  \n",
       "29767922 -74.000040    504  \n",
       "29767923 -73.983776     63  \n",
       "29767924 -74.000040    504  \n",
       "\n",
       "[28754546 rows x 7 columns]"
      ]
     },
     "execution_count": 33,
     "metadata": {},
     "output_type": "execute_result"
    }
   ],
   "source": [
    "df_stations_dupes"
   ]
  },
  {
   "cell_type": "code",
   "execution_count": 36,
   "id": "1a89eabc-1d9b-46ad-9cec-58c2cceae75d",
   "metadata": {},
   "outputs": [],
   "source": [
    "df_stations_cleaned = df_stations.drop_duplicates(subset=['start_station_name', 'end_station_name', 'trips'])"
   ]
  },
  {
   "cell_type": "code",
   "execution_count": 37,
   "id": "bc6f3ee4-f1c6-427b-8d14-4e12d1d1b453",
   "metadata": {},
   "outputs": [
    {
     "data": {
      "text/html": [
       "<div>\n",
       "<style scoped>\n",
       "    .dataframe tbody tr th:only-of-type {\n",
       "        vertical-align: middle;\n",
       "    }\n",
       "\n",
       "    .dataframe tbody tr th {\n",
       "        vertical-align: top;\n",
       "    }\n",
       "\n",
       "    .dataframe thead th {\n",
       "        text-align: right;\n",
       "    }\n",
       "</style>\n",
       "<table border=\"1\" class=\"dataframe\">\n",
       "  <thead>\n",
       "    <tr style=\"text-align: right;\">\n",
       "      <th></th>\n",
       "      <th>start_station_name</th>\n",
       "      <th>end_station_name</th>\n",
       "      <th>start_lat</th>\n",
       "      <th>start_lng</th>\n",
       "      <th>end_lat</th>\n",
       "      <th>end_lng</th>\n",
       "      <th>trips</th>\n",
       "    </tr>\n",
       "  </thead>\n",
       "  <tbody>\n",
       "    <tr>\n",
       "      <th>0</th>\n",
       "      <td>S 4 St &amp; Wythe Ave</td>\n",
       "      <td>Kent Ave &amp; S 11 St</td>\n",
       "      <td>40.712859</td>\n",
       "      <td>-73.965903</td>\n",
       "      <td>40.707645</td>\n",
       "      <td>-73.968415</td>\n",
       "      <td>94</td>\n",
       "    </tr>\n",
       "    <tr>\n",
       "      <th>1</th>\n",
       "      <td>Lexington Ave &amp; E 120 St</td>\n",
       "      <td>Amsterdam Ave &amp; W 125 St</td>\n",
       "      <td>40.801307</td>\n",
       "      <td>-73.939817</td>\n",
       "      <td>40.813358</td>\n",
       "      <td>-73.956461</td>\n",
       "      <td>74</td>\n",
       "    </tr>\n",
       "    <tr>\n",
       "      <th>3</th>\n",
       "      <td>Cleveland Pl &amp; Spring St</td>\n",
       "      <td>Mott St &amp; Prince St</td>\n",
       "      <td>40.722104</td>\n",
       "      <td>-73.997249</td>\n",
       "      <td>40.723180</td>\n",
       "      <td>-73.994800</td>\n",
       "      <td>320</td>\n",
       "    </tr>\n",
       "    <tr>\n",
       "      <th>4</th>\n",
       "      <td>Central Park North &amp; Adam Clayton Powell Blvd</td>\n",
       "      <td>E 110 St &amp; Madison Ave</td>\n",
       "      <td>40.799484</td>\n",
       "      <td>-73.955613</td>\n",
       "      <td>40.796154</td>\n",
       "      <td>-73.947821</td>\n",
       "      <td>87</td>\n",
       "    </tr>\n",
       "    <tr>\n",
       "      <th>6</th>\n",
       "      <td>E 2 St &amp; 2 Ave</td>\n",
       "      <td>Allen St &amp; Rivington St</td>\n",
       "      <td>40.725029</td>\n",
       "      <td>-73.990697</td>\n",
       "      <td>40.720196</td>\n",
       "      <td>-73.989978</td>\n",
       "      <td>188</td>\n",
       "    </tr>\n",
       "  </tbody>\n",
       "</table>\n",
       "</div>"
      ],
      "text/plain": [
       "                              start_station_name          end_station_name  \\\n",
       "0                             S 4 St & Wythe Ave        Kent Ave & S 11 St   \n",
       "1                       Lexington Ave & E 120 St  Amsterdam Ave & W 125 St   \n",
       "3                       Cleveland Pl & Spring St       Mott St & Prince St   \n",
       "4  Central Park North & Adam Clayton Powell Blvd    E 110 St & Madison Ave   \n",
       "6                                 E 2 St & 2 Ave   Allen St & Rivington St   \n",
       "\n",
       "   start_lat  start_lng    end_lat    end_lng  trips  \n",
       "0  40.712859 -73.965903  40.707645 -73.968415     94  \n",
       "1  40.801307 -73.939817  40.813358 -73.956461     74  \n",
       "3  40.722104 -73.997249  40.723180 -73.994800    320  \n",
       "4  40.799484 -73.955613  40.796154 -73.947821     87  \n",
       "6  40.725029 -73.990697  40.720196 -73.989978    188  "
      ]
     },
     "execution_count": 37,
     "metadata": {},
     "output_type": "execute_result"
    }
   ],
   "source": [
    "df_stations_cleaned.head()"
   ]
  },
  {
   "cell_type": "code",
   "execution_count": 38,
   "id": "a6c0bdb8-1283-49f8-9aca-554a713eb4b1",
   "metadata": {},
   "outputs": [
    {
     "data": {
      "text/plain": [
       "(1013379, 7)"
      ]
     },
     "execution_count": 38,
     "metadata": {},
     "output_type": "execute_result"
    }
   ],
   "source": [
    "df_stations_cleaned.shape"
   ]
  },
  {
   "cell_type": "code",
   "execution_count": 44,
   "id": "4bc31741-dad3-4f78-a275-ce191cfdd01f",
   "metadata": {},
   "outputs": [],
   "source": [
    "# save the df_stations\n",
    "#df_stations_cleaned.to_csv(os.path.join(path, 'Data','Prepared_Data', 'stations_lat_and_lng_trips.csv'))"
   ]
  },
  {
   "cell_type": "code",
   "execution_count": 46,
   "id": "bd6414d8-ade7-4d84-b570-ce712f2b5d23",
   "metadata": {},
   "outputs": [
    {
     "data": {
      "text/plain": [
       "0"
      ]
     },
     "execution_count": 46,
     "metadata": {},
     "output_type": "execute_result"
    }
   ],
   "source": [
    "import gc # this is garbage collector - speeds up performance\n",
    "gc.collect()"
   ]
  },
  {
   "cell_type": "markdown",
   "id": "410df881-0998-4198-9736-e2684f8e6106",
   "metadata": {},
   "source": [
    "# 4. Initialize an instance of a kepler.gl map."
   ]
  },
  {
   "cell_type": "code",
   "execution_count": 50,
   "id": "8314489f-15f1-4b2f-bc08-ecfb47367b01",
   "metadata": {},
   "outputs": [
    {
     "name": "stdout",
     "output_type": "stream",
     "text": [
      "User Guide: https://docs.kepler.gl/docs/keplergl-jupyter\n"
     ]
    },
    {
     "data": {
      "application/vnd.jupyter.widget-view+json": {
       "model_id": "77010687f34d4217bcbbe2d971a2cfcc",
       "version_major": 2,
       "version_minor": 0
      },
      "text/plain": [
       "KeplerGl(data={'data_1':                                      start_station_name  \\\n",
       "0                         …"
      ]
     },
     "metadata": {},
     "output_type": "display_data"
    }
   ],
   "source": [
    "# Create KeplerGl instance\n",
    "\n",
    "m = KeplerGl(height = 700, data={\"data_1\": df_stations_cleaned})\n",
    "m"
   ]
  },
  {
   "cell_type": "markdown",
   "id": "b8b8ce57-9e13-4e21-9c74-8dc0a4b51db3",
   "metadata": {},
   "source": [
    "# 5. Customize the output of your map—adjust the color of the points and add an arc that connects them. Pick a suitable color palette for each. In a Markdown section, explain what settings you changed and why."
   ]
  },
  {
   "cell_type": "markdown",
   "id": "f549b68f-58cd-4080-87b7-47f7bff21fbc",
   "metadata": {},
   "source": [
    "The map was customized to clearly distinguish starting and ending points, as well as the connections (trips) between them. Starting points are represented in blue, while ending points are shown in red, ensuring a strong visual contrast between origins and destinations. An arc layer was added to connect these points, with the arc color transitioning from blue (source) to red (target) to visually represent the flow of trips. These changes improve the map's interpretability by aligning the color scheme across points and arcs, making it easier to understand the dataset at a glance."
   ]
  },
  {
   "cell_type": "markdown",
   "id": "dc624bb3-561d-45a3-8aaa-1f8bf7fa854a",
   "metadata": {},
   "source": [
    "# 6. Add a filter to your map and use it to see what the most common trips are in New York City. What else makes an impression? For example, are there any zones that seem particularly busy? Using some additional research, write a few sentences to make sense of that output."
   ]
  },
  {
   "cell_type": "markdown",
   "id": "e5c6a333-590f-434b-855b-62e9c6ca2e48",
   "metadata": {},
   "source": [
    "The most common bike trips in New York City happen around popular places like Central Park and Times Square. These areas are busy because they attract both tourists and locals, making them popular starting and ending points for rides.  Busy zones like Central Park, Midtown Manhattan, and the Brooklyn Bridge see a lot of bike traffic. Central Park and Midtown are popular for recreation and tourism, while the Brooklyn Bridge is often used by commuters traveling between Manhattan and other boroughs. These patterns show how bike-sharing is used for both fun and daily travel in the city."
   ]
  },
  {
   "cell_type": "code",
   "execution_count": 101,
   "id": "2e6d30fa-1018-413e-a8f6-649887a5c5a3",
   "metadata": {},
   "outputs": [],
   "source": [
    "config = m.config"
   ]
  },
  {
   "cell_type": "code",
   "execution_count": 107,
   "id": "e985c1be-f1a5-4247-80e8-8bf6dc3014d6",
   "metadata": {},
   "outputs": [
    {
     "data": {
      "text/plain": [
       "{'version': 'v1',\n",
       " 'config': {'mapState': {'latitude': 40.7128,\n",
       "   'longitude': -74.006,\n",
       "   'zoom': 12}}}"
      ]
     },
     "execution_count": 107,
     "metadata": {},
     "output_type": "execute_result"
    }
   ],
   "source": [
    "config"
   ]
  },
  {
   "cell_type": "code",
   "execution_count": 105,
   "id": "2f71c9e5-ffb5-4185-b451-ff7ca3879aa6",
   "metadata": {},
   "outputs": [],
   "source": [
    "# Define configuration to center map on New York City\n",
    "config = {\n",
    "    \"version\": \"v1\",\n",
    "    \"config\": {\n",
    "        \"mapState\": {\n",
    "            \"latitude\": 40.7128,   # Latitude of NYC\n",
    "            \"longitude\": -74.0060, # Longitude of NYC\n",
    "            \"zoom\": 12,            # Adjust zoom level \n",
    "        }\n",
    "    }\n",
    "}\n",
    "m.config = config"
   ]
  },
  {
   "cell_type": "code",
   "execution_count": 109,
   "id": "3908d9f6-b4a5-4614-b4be-fb24d39e6c1c",
   "metadata": {},
   "outputs": [],
   "source": [
    "import json\n",
    "with open(\"config.json\", \"w\") as outfile:\n",
    "    json.dump(config, outfile)"
   ]
  },
  {
   "cell_type": "code",
   "execution_count": 111,
   "id": "f34e9d37-1d0b-49d3-88c2-f264eea7f365",
   "metadata": {},
   "outputs": [
    {
     "name": "stdout",
     "output_type": "stream",
     "text": [
      "Map saved to Bike Trips Aggregated.html!\n"
     ]
    }
   ],
   "source": [
    "m.save_to_html(file_name = 'Bike Trips Aggregated.html', read_only = False, config = config)"
   ]
  },
  {
   "cell_type": "code",
   "execution_count": null,
   "id": "b3dca826-9979-4d92-8ce3-48de9701df91",
   "metadata": {},
   "outputs": [],
   "source": []
  }
 ],
 "metadata": {
  "kernelspec": {
   "display_name": "Python [conda env:venv_CitiBike]",
   "language": "python",
   "name": "conda-env-venv_CitiBike-py"
  },
  "language_info": {
   "codemirror_mode": {
    "name": "ipython",
    "version": 3
   },
   "file_extension": ".py",
   "mimetype": "text/x-python",
   "name": "python",
   "nbconvert_exporter": "python",
   "pygments_lexer": "ipython3",
   "version": "3.12.8"
  }
 },
 "nbformat": 4,
 "nbformat_minor": 5
}
