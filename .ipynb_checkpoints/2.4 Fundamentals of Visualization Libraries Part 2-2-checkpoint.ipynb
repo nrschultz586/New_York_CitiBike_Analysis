{
 "cells": [
  {
   "cell_type": "code",
   "execution_count": 1,
   "id": "41c7afec-51b6-4acd-a841-92708f848ca4",
   "metadata": {},
   "outputs": [],
   "source": [
    "# import libraries\n",
    "import pandas as pd\n",
    "from matplotlib import pyplot as plt\n",
    "import numpy as np\n",
    "import os\n",
    "from datetime import datetime as dt\n",
    "import seaborn as sns\n",
    "import warnings\n",
    "warnings.simplefilter(action='ignore', category=FutureWarning)"
   ]
  },
  {
   "cell_type": "code",
   "execution_count": 2,
   "id": "ffd0e999-acd4-4d47-8d94-8dcb268ae0c7",
   "metadata": {},
   "outputs": [
    {
     "name": "stderr",
     "output_type": "stream",
     "text": [
      "C:\\Users\\nrsmi\\AppData\\Local\\Temp\\ipykernel_8692\\1155851793.py:4: DtypeWarning: Columns (7,9) have mixed types. Specify dtype option on import or set low_memory=False.\n",
      "  df = pd.read_csv(os.path.join(path, 'Data', 'Prepared_Data', 'Weather_DailyBikeRides_RideDuration.csv'), index_col = 0 )\n"
     ]
    }
   ],
   "source": [
    "#set path\n",
    "path = r'C:\\Users\\nrsmi\\Documents\\CareerFoundry\\New_York_CitiBike_Analysis'\n",
    "# import df\n",
    "df = pd.read_csv(os.path.join(path, 'Data', 'Prepared_Data', 'Weather_DailyBikeRides_RideDuration.csv'), index_col = 0 )"
   ]
  },
  {
   "cell_type": "code",
   "execution_count": 3,
   "id": "103a62e1-8bf8-4e48-8687-30129372bf9c",
   "metadata": {},
   "outputs": [
    {
     "data": {
      "text/html": [
       "<div>\n",
       "<style scoped>\n",
       "    .dataframe tbody tr th:only-of-type {\n",
       "        vertical-align: middle;\n",
       "    }\n",
       "\n",
       "    .dataframe tbody tr th {\n",
       "        vertical-align: top;\n",
       "    }\n",
       "\n",
       "    .dataframe thead th {\n",
       "        text-align: right;\n",
       "    }\n",
       "</style>\n",
       "<table border=\"1\" class=\"dataframe\">\n",
       "  <thead>\n",
       "    <tr style=\"text-align: right;\">\n",
       "      <th></th>\n",
       "      <th>date</th>\n",
       "      <th>ride_id</th>\n",
       "      <th>rideable_type</th>\n",
       "      <th>started_at</th>\n",
       "      <th>ended_at</th>\n",
       "      <th>start_station_name</th>\n",
       "      <th>start_station_id</th>\n",
       "      <th>end_station_name</th>\n",
       "      <th>end_station_id</th>\n",
       "      <th>start_lat</th>\n",
       "      <th>start_lng</th>\n",
       "      <th>end_lat</th>\n",
       "      <th>end_lng</th>\n",
       "      <th>member_casual</th>\n",
       "      <th>avgTemp</th>\n",
       "      <th>bike_rides_daily</th>\n",
       "      <th>ride_duration</th>\n",
       "    </tr>\n",
       "  </thead>\n",
       "  <tbody>\n",
       "    <tr>\n",
       "      <th>0</th>\n",
       "      <td>2022-01-01</td>\n",
       "      <td>4A091640AEC83471</td>\n",
       "      <td>classic_bike</td>\n",
       "      <td>2022-01-01 16:01:22.082</td>\n",
       "      <td>2022-01-01 16:05:11.986</td>\n",
       "      <td>S 4 St &amp; Wythe Ave</td>\n",
       "      <td>5204.05</td>\n",
       "      <td>Kent Ave &amp; S 11 St</td>\n",
       "      <td>5062.01</td>\n",
       "      <td>40.712859</td>\n",
       "      <td>-73.965903</td>\n",
       "      <td>40.707645</td>\n",
       "      <td>-73.968415</td>\n",
       "      <td>member</td>\n",
       "      <td>11.6</td>\n",
       "      <td>20428</td>\n",
       "      <td>3.831733</td>\n",
       "    </tr>\n",
       "    <tr>\n",
       "      <th>1</th>\n",
       "      <td>2022-01-01</td>\n",
       "      <td>7A560D6287C00126</td>\n",
       "      <td>classic_bike</td>\n",
       "      <td>2022-01-01 14:07:04.344</td>\n",
       "      <td>2022-01-01 14:31:57.500</td>\n",
       "      <td>Lexington Ave &amp; E 120 St</td>\n",
       "      <td>7652.04</td>\n",
       "      <td>Amsterdam Ave &amp; W 125 St</td>\n",
       "      <td>7800.03</td>\n",
       "      <td>40.801307</td>\n",
       "      <td>-73.939817</td>\n",
       "      <td>40.813358</td>\n",
       "      <td>-73.956461</td>\n",
       "      <td>member</td>\n",
       "      <td>11.6</td>\n",
       "      <td>20428</td>\n",
       "      <td>24.885933</td>\n",
       "    </tr>\n",
       "    <tr>\n",
       "      <th>2</th>\n",
       "      <td>2022-01-01</td>\n",
       "      <td>4F6F726B809C15E4</td>\n",
       "      <td>classic_bike</td>\n",
       "      <td>2022-01-01 12:02:26.943</td>\n",
       "      <td>2022-01-01 12:14:13.555</td>\n",
       "      <td>Lexington Ave &amp; E 120 St</td>\n",
       "      <td>7652.04</td>\n",
       "      <td>Amsterdam Ave &amp; W 125 St</td>\n",
       "      <td>7800.03</td>\n",
       "      <td>40.801307</td>\n",
       "      <td>-73.939817</td>\n",
       "      <td>40.813358</td>\n",
       "      <td>-73.956461</td>\n",
       "      <td>member</td>\n",
       "      <td>11.6</td>\n",
       "      <td>20428</td>\n",
       "      <td>11.776867</td>\n",
       "    </tr>\n",
       "    <tr>\n",
       "      <th>3</th>\n",
       "      <td>2022-01-01</td>\n",
       "      <td>3BC10DC94FD79955</td>\n",
       "      <td>classic_bike</td>\n",
       "      <td>2022-01-01 22:53:23.508</td>\n",
       "      <td>2022-01-01 23:18:42.881</td>\n",
       "      <td>Cleveland Pl &amp; Spring St</td>\n",
       "      <td>5492.05</td>\n",
       "      <td>Mott St &amp; Prince St</td>\n",
       "      <td>5561.04</td>\n",
       "      <td>40.722104</td>\n",
       "      <td>-73.997249</td>\n",
       "      <td>40.723180</td>\n",
       "      <td>-73.994800</td>\n",
       "      <td>member</td>\n",
       "      <td>11.6</td>\n",
       "      <td>20428</td>\n",
       "      <td>25.322883</td>\n",
       "    </tr>\n",
       "    <tr>\n",
       "      <th>4</th>\n",
       "      <td>2022-01-01</td>\n",
       "      <td>FE4CE7F1CFFD7952</td>\n",
       "      <td>classic_bike</td>\n",
       "      <td>2022-01-01 08:04:51.755</td>\n",
       "      <td>2022-01-01 08:08:07.290</td>\n",
       "      <td>Central Park North &amp; Adam Clayton Powell Blvd</td>\n",
       "      <td>7617.07</td>\n",
       "      <td>E 110 St &amp; Madison Ave</td>\n",
       "      <td>7587.14</td>\n",
       "      <td>40.799484</td>\n",
       "      <td>-73.955613</td>\n",
       "      <td>40.796154</td>\n",
       "      <td>-73.947821</td>\n",
       "      <td>member</td>\n",
       "      <td>11.6</td>\n",
       "      <td>20428</td>\n",
       "      <td>3.258917</td>\n",
       "    </tr>\n",
       "  </tbody>\n",
       "</table>\n",
       "</div>"
      ],
      "text/plain": [
       "         date           ride_id rideable_type               started_at  \\\n",
       "0  2022-01-01  4A091640AEC83471  classic_bike  2022-01-01 16:01:22.082   \n",
       "1  2022-01-01  7A560D6287C00126  classic_bike  2022-01-01 14:07:04.344   \n",
       "2  2022-01-01  4F6F726B809C15E4  classic_bike  2022-01-01 12:02:26.943   \n",
       "3  2022-01-01  3BC10DC94FD79955  classic_bike  2022-01-01 22:53:23.508   \n",
       "4  2022-01-01  FE4CE7F1CFFD7952  classic_bike  2022-01-01 08:04:51.755   \n",
       "\n",
       "                  ended_at                             start_station_name  \\\n",
       "0  2022-01-01 16:05:11.986                             S 4 St & Wythe Ave   \n",
       "1  2022-01-01 14:31:57.500                       Lexington Ave & E 120 St   \n",
       "2  2022-01-01 12:14:13.555                       Lexington Ave & E 120 St   \n",
       "3  2022-01-01 23:18:42.881                       Cleveland Pl & Spring St   \n",
       "4  2022-01-01 08:08:07.290  Central Park North & Adam Clayton Powell Blvd   \n",
       "\n",
       "  start_station_id          end_station_name end_station_id  start_lat  \\\n",
       "0          5204.05        Kent Ave & S 11 St        5062.01  40.712859   \n",
       "1          7652.04  Amsterdam Ave & W 125 St        7800.03  40.801307   \n",
       "2          7652.04  Amsterdam Ave & W 125 St        7800.03  40.801307   \n",
       "3          5492.05       Mott St & Prince St        5561.04  40.722104   \n",
       "4          7617.07    E 110 St & Madison Ave        7587.14  40.799484   \n",
       "\n",
       "   start_lng    end_lat    end_lng member_casual  avgTemp  bike_rides_daily  \\\n",
       "0 -73.965903  40.707645 -73.968415        member     11.6             20428   \n",
       "1 -73.939817  40.813358 -73.956461        member     11.6             20428   \n",
       "2 -73.939817  40.813358 -73.956461        member     11.6             20428   \n",
       "3 -73.997249  40.723180 -73.994800        member     11.6             20428   \n",
       "4 -73.955613  40.796154 -73.947821        member     11.6             20428   \n",
       "\n",
       "   ride_duration  \n",
       "0       3.831733  \n",
       "1      24.885933  \n",
       "2      11.776867  \n",
       "3      25.322883  \n",
       "4       3.258917  "
      ]
     },
     "execution_count": 3,
     "metadata": {},
     "output_type": "execute_result"
    }
   ],
   "source": [
    "df.head()"
   ]
  },
  {
   "cell_type": "code",
   "execution_count": 4,
   "id": "27a2db68-2b9e-4345-892d-982733db422a",
   "metadata": {},
   "outputs": [
    {
     "data": {
      "text/plain": [
       "date                      0\n",
       "ride_id                   0\n",
       "rideable_type             0\n",
       "started_at                0\n",
       "ended_at                  0\n",
       "start_station_name       49\n",
       "start_station_id         49\n",
       "end_station_name      69884\n",
       "end_station_id        69884\n",
       "start_lat                 0\n",
       "start_lng                 0\n",
       "end_lat               37223\n",
       "end_lng               37223\n",
       "member_casual             0\n",
       "avgTemp                   0\n",
       "bike_rides_daily          0\n",
       "ride_duration             0\n",
       "dtype: int64"
      ]
     },
     "execution_count": 4,
     "metadata": {},
     "output_type": "execute_result"
    }
   ],
   "source": [
    "df.isnull().sum()"
   ]
  },
  {
   "cell_type": "code",
   "execution_count": 5,
   "id": "91b3f8d7-5240-4c2d-8569-f1aea7b93e95",
   "metadata": {},
   "outputs": [
    {
     "data": {
      "text/plain": [
       "(29837809, 17)"
      ]
     },
     "execution_count": 5,
     "metadata": {},
     "output_type": "execute_result"
    }
   ],
   "source": [
    "df.shape"
   ]
  },
  {
   "cell_type": "code",
   "execution_count": 6,
   "id": "9f4ec71d-0caf-4739-94ef-86adcf78b9c9",
   "metadata": {},
   "outputs": [],
   "source": [
    "# Drop rows with any null values\n",
    "df = df.dropna()"
   ]
  },
  {
   "cell_type": "code",
   "execution_count": 7,
   "id": "48fb9cba-3389-4347-adf1-5e3280117450",
   "metadata": {},
   "outputs": [
    {
     "data": {
      "text/html": [
       "<div>\n",
       "<style scoped>\n",
       "    .dataframe tbody tr th:only-of-type {\n",
       "        vertical-align: middle;\n",
       "    }\n",
       "\n",
       "    .dataframe tbody tr th {\n",
       "        vertical-align: top;\n",
       "    }\n",
       "\n",
       "    .dataframe thead th {\n",
       "        text-align: right;\n",
       "    }\n",
       "</style>\n",
       "<table border=\"1\" class=\"dataframe\">\n",
       "  <thead>\n",
       "    <tr style=\"text-align: right;\">\n",
       "      <th></th>\n",
       "      <th>date</th>\n",
       "      <th>ride_id</th>\n",
       "      <th>rideable_type</th>\n",
       "      <th>started_at</th>\n",
       "      <th>ended_at</th>\n",
       "      <th>start_station_name</th>\n",
       "      <th>start_station_id</th>\n",
       "      <th>end_station_name</th>\n",
       "      <th>end_station_id</th>\n",
       "      <th>start_lat</th>\n",
       "      <th>start_lng</th>\n",
       "      <th>end_lat</th>\n",
       "      <th>end_lng</th>\n",
       "      <th>member_casual</th>\n",
       "      <th>avgTemp</th>\n",
       "      <th>bike_rides_daily</th>\n",
       "      <th>ride_duration</th>\n",
       "    </tr>\n",
       "  </thead>\n",
       "  <tbody>\n",
       "    <tr>\n",
       "      <th>0</th>\n",
       "      <td>2022-01-01</td>\n",
       "      <td>4A091640AEC83471</td>\n",
       "      <td>classic_bike</td>\n",
       "      <td>2022-01-01 16:01:22.082</td>\n",
       "      <td>2022-01-01 16:05:11.986</td>\n",
       "      <td>S 4 St &amp; Wythe Ave</td>\n",
       "      <td>5204.05</td>\n",
       "      <td>Kent Ave &amp; S 11 St</td>\n",
       "      <td>5062.01</td>\n",
       "      <td>40.712859</td>\n",
       "      <td>-73.965903</td>\n",
       "      <td>40.707645</td>\n",
       "      <td>-73.968415</td>\n",
       "      <td>member</td>\n",
       "      <td>11.6</td>\n",
       "      <td>20428</td>\n",
       "      <td>3.831733</td>\n",
       "    </tr>\n",
       "    <tr>\n",
       "      <th>1</th>\n",
       "      <td>2022-01-01</td>\n",
       "      <td>7A560D6287C00126</td>\n",
       "      <td>classic_bike</td>\n",
       "      <td>2022-01-01 14:07:04.344</td>\n",
       "      <td>2022-01-01 14:31:57.500</td>\n",
       "      <td>Lexington Ave &amp; E 120 St</td>\n",
       "      <td>7652.04</td>\n",
       "      <td>Amsterdam Ave &amp; W 125 St</td>\n",
       "      <td>7800.03</td>\n",
       "      <td>40.801307</td>\n",
       "      <td>-73.939817</td>\n",
       "      <td>40.813358</td>\n",
       "      <td>-73.956461</td>\n",
       "      <td>member</td>\n",
       "      <td>11.6</td>\n",
       "      <td>20428</td>\n",
       "      <td>24.885933</td>\n",
       "    </tr>\n",
       "    <tr>\n",
       "      <th>2</th>\n",
       "      <td>2022-01-01</td>\n",
       "      <td>4F6F726B809C15E4</td>\n",
       "      <td>classic_bike</td>\n",
       "      <td>2022-01-01 12:02:26.943</td>\n",
       "      <td>2022-01-01 12:14:13.555</td>\n",
       "      <td>Lexington Ave &amp; E 120 St</td>\n",
       "      <td>7652.04</td>\n",
       "      <td>Amsterdam Ave &amp; W 125 St</td>\n",
       "      <td>7800.03</td>\n",
       "      <td>40.801307</td>\n",
       "      <td>-73.939817</td>\n",
       "      <td>40.813358</td>\n",
       "      <td>-73.956461</td>\n",
       "      <td>member</td>\n",
       "      <td>11.6</td>\n",
       "      <td>20428</td>\n",
       "      <td>11.776867</td>\n",
       "    </tr>\n",
       "    <tr>\n",
       "      <th>3</th>\n",
       "      <td>2022-01-01</td>\n",
       "      <td>3BC10DC94FD79955</td>\n",
       "      <td>classic_bike</td>\n",
       "      <td>2022-01-01 22:53:23.508</td>\n",
       "      <td>2022-01-01 23:18:42.881</td>\n",
       "      <td>Cleveland Pl &amp; Spring St</td>\n",
       "      <td>5492.05</td>\n",
       "      <td>Mott St &amp; Prince St</td>\n",
       "      <td>5561.04</td>\n",
       "      <td>40.722104</td>\n",
       "      <td>-73.997249</td>\n",
       "      <td>40.723180</td>\n",
       "      <td>-73.994800</td>\n",
       "      <td>member</td>\n",
       "      <td>11.6</td>\n",
       "      <td>20428</td>\n",
       "      <td>25.322883</td>\n",
       "    </tr>\n",
       "    <tr>\n",
       "      <th>4</th>\n",
       "      <td>2022-01-01</td>\n",
       "      <td>FE4CE7F1CFFD7952</td>\n",
       "      <td>classic_bike</td>\n",
       "      <td>2022-01-01 08:04:51.755</td>\n",
       "      <td>2022-01-01 08:08:07.290</td>\n",
       "      <td>Central Park North &amp; Adam Clayton Powell Blvd</td>\n",
       "      <td>7617.07</td>\n",
       "      <td>E 110 St &amp; Madison Ave</td>\n",
       "      <td>7587.14</td>\n",
       "      <td>40.799484</td>\n",
       "      <td>-73.955613</td>\n",
       "      <td>40.796154</td>\n",
       "      <td>-73.947821</td>\n",
       "      <td>member</td>\n",
       "      <td>11.6</td>\n",
       "      <td>20428</td>\n",
       "      <td>3.258917</td>\n",
       "    </tr>\n",
       "  </tbody>\n",
       "</table>\n",
       "</div>"
      ],
      "text/plain": [
       "         date           ride_id rideable_type               started_at  \\\n",
       "0  2022-01-01  4A091640AEC83471  classic_bike  2022-01-01 16:01:22.082   \n",
       "1  2022-01-01  7A560D6287C00126  classic_bike  2022-01-01 14:07:04.344   \n",
       "2  2022-01-01  4F6F726B809C15E4  classic_bike  2022-01-01 12:02:26.943   \n",
       "3  2022-01-01  3BC10DC94FD79955  classic_bike  2022-01-01 22:53:23.508   \n",
       "4  2022-01-01  FE4CE7F1CFFD7952  classic_bike  2022-01-01 08:04:51.755   \n",
       "\n",
       "                  ended_at                             start_station_name  \\\n",
       "0  2022-01-01 16:05:11.986                             S 4 St & Wythe Ave   \n",
       "1  2022-01-01 14:31:57.500                       Lexington Ave & E 120 St   \n",
       "2  2022-01-01 12:14:13.555                       Lexington Ave & E 120 St   \n",
       "3  2022-01-01 23:18:42.881                       Cleveland Pl & Spring St   \n",
       "4  2022-01-01 08:08:07.290  Central Park North & Adam Clayton Powell Blvd   \n",
       "\n",
       "  start_station_id          end_station_name end_station_id  start_lat  \\\n",
       "0          5204.05        Kent Ave & S 11 St        5062.01  40.712859   \n",
       "1          7652.04  Amsterdam Ave & W 125 St        7800.03  40.801307   \n",
       "2          7652.04  Amsterdam Ave & W 125 St        7800.03  40.801307   \n",
       "3          5492.05       Mott St & Prince St        5561.04  40.722104   \n",
       "4          7617.07    E 110 St & Madison Ave        7587.14  40.799484   \n",
       "\n",
       "   start_lng    end_lat    end_lng member_casual  avgTemp  bike_rides_daily  \\\n",
       "0 -73.965903  40.707645 -73.968415        member     11.6             20428   \n",
       "1 -73.939817  40.813358 -73.956461        member     11.6             20428   \n",
       "2 -73.939817  40.813358 -73.956461        member     11.6             20428   \n",
       "3 -73.997249  40.723180 -73.994800        member     11.6             20428   \n",
       "4 -73.955613  40.796154 -73.947821        member     11.6             20428   \n",
       "\n",
       "   ride_duration  \n",
       "0       3.831733  \n",
       "1      24.885933  \n",
       "2      11.776867  \n",
       "3      25.322883  \n",
       "4       3.258917  "
      ]
     },
     "execution_count": 7,
     "metadata": {},
     "output_type": "execute_result"
    }
   ],
   "source": [
    "df.head()"
   ]
  },
  {
   "cell_type": "code",
   "execution_count": 8,
   "id": "175a4d0c-20fe-4130-b732-2075c6466c37",
   "metadata": {},
   "outputs": [],
   "source": [
    "# Count rows where ride_duration is less than 1 minute\n",
    "less_than_one_minute_count = (df['ride_duration'] < 1).sum()"
   ]
  },
  {
   "cell_type": "code",
   "execution_count": 9,
   "id": "88e24a2e-8ea6-4a41-9f4f-dc727fc9d432",
   "metadata": {},
   "outputs": [
    {
     "data": {
      "text/plain": [
       "np.int64(0)"
      ]
     },
     "execution_count": 9,
     "metadata": {},
     "output_type": "execute_result"
    }
   ],
   "source": [
    "less_than_one_minute_count"
   ]
  },
  {
   "cell_type": "code",
   "execution_count": 10,
   "id": "fd0d976e-2569-41af-a654-6ea5a5caee46",
   "metadata": {},
   "outputs": [],
   "source": [
    "# Filter rows where ride_duration is more than 7 days\n",
    "long_rides = df[df['ride_duration'] > 300080]"
   ]
  },
  {
   "cell_type": "code",
   "execution_count": 11,
   "id": "75a97916-b2c2-4a97-80d0-f89b8c1066b5",
   "metadata": {},
   "outputs": [
    {
     "data": {
      "text/html": [
       "<div>\n",
       "<style scoped>\n",
       "    .dataframe tbody tr th:only-of-type {\n",
       "        vertical-align: middle;\n",
       "    }\n",
       "\n",
       "    .dataframe tbody tr th {\n",
       "        vertical-align: top;\n",
       "    }\n",
       "\n",
       "    .dataframe thead th {\n",
       "        text-align: right;\n",
       "    }\n",
       "</style>\n",
       "<table border=\"1\" class=\"dataframe\">\n",
       "  <thead>\n",
       "    <tr style=\"text-align: right;\">\n",
       "      <th></th>\n",
       "      <th>date</th>\n",
       "      <th>ride_id</th>\n",
       "      <th>rideable_type</th>\n",
       "      <th>started_at</th>\n",
       "      <th>ended_at</th>\n",
       "      <th>start_station_name</th>\n",
       "      <th>start_station_id</th>\n",
       "      <th>end_station_name</th>\n",
       "      <th>end_station_id</th>\n",
       "      <th>start_lat</th>\n",
       "      <th>start_lng</th>\n",
       "      <th>end_lat</th>\n",
       "      <th>end_lng</th>\n",
       "      <th>member_casual</th>\n",
       "      <th>avgTemp</th>\n",
       "      <th>bike_rides_daily</th>\n",
       "      <th>ride_duration</th>\n",
       "    </tr>\n",
       "  </thead>\n",
       "  <tbody>\n",
       "    <tr>\n",
       "      <th>1913636</th>\n",
       "      <td>2022-02-21</td>\n",
       "      <td>A67773E48806E394</td>\n",
       "      <td>classic_bike</td>\n",
       "      <td>2022-02-21 14:51:07.071</td>\n",
       "      <td>2022-11-29 12:12:07.423</td>\n",
       "      <td>W 34 St &amp; Hudson Blvd E</td>\n",
       "      <td>6535.04</td>\n",
       "      <td>Morgan Bike Mechanics</td>\n",
       "      <td>SYS016</td>\n",
       "      <td>40.755167</td>\n",
       "      <td>-74.000599</td>\n",
       "      <td>40.709628</td>\n",
       "      <td>-73.931457</td>\n",
       "      <td>casual</td>\n",
       "      <td>4.1</td>\n",
       "      <td>52366</td>\n",
       "      <td>404481.005867</td>\n",
       "    </tr>\n",
       "  </tbody>\n",
       "</table>\n",
       "</div>"
      ],
      "text/plain": [
       "               date           ride_id rideable_type               started_at  \\\n",
       "1913636  2022-02-21  A67773E48806E394  classic_bike  2022-02-21 14:51:07.071   \n",
       "\n",
       "                        ended_at       start_station_name start_station_id  \\\n",
       "1913636  2022-11-29 12:12:07.423  W 34 St & Hudson Blvd E          6535.04   \n",
       "\n",
       "              end_station_name end_station_id  start_lat  start_lng  \\\n",
       "1913636  Morgan Bike Mechanics         SYS016  40.755167 -74.000599   \n",
       "\n",
       "           end_lat    end_lng member_casual  avgTemp  bike_rides_daily  \\\n",
       "1913636  40.709628 -73.931457        casual      4.1             52366   \n",
       "\n",
       "         ride_duration  \n",
       "1913636  404481.005867  "
      ]
     },
     "execution_count": 11,
     "metadata": {},
     "output_type": "execute_result"
    }
   ],
   "source": [
    "long_rides"
   ]
  },
  {
   "cell_type": "markdown",
   "id": "de8d3093-0c38-43b2-aff0-bcdf3ffab3d0",
   "metadata": {},
   "source": [
    "# 6. Make a box plot of one of the categorical variables in your data set. What does this plot tell you about the variable? Write down a 3 to 5-sentence analysis of the elements of the box plot."
   ]
  },
  {
   "cell_type": "code",
   "execution_count": 13,
   "id": "6ed4b8c1-17be-4a4b-bdd1-f3522d10517b",
   "metadata": {},
   "outputs": [
    {
     "data": {
      "image/png": "[encoded data removed]",
      "text/plain": [
       "<Figure size 640x480 with 1 Axes>"
      ]
     },
     "metadata": {},
     "output_type": "display_data"
    }
   ],
   "source": [
    "# Create a box plot to compare ride durations by member type\n",
    "box1 = sns.boxplot(data=df, x=\"member_casual\", y=\"ride_duration\")\n",
    "plt.title(\"Ride Duration by Member Type\")\n",
    "plt.xlabel(\"User Type\")\n",
    "plt.ylabel(\"Ride Duration (minutes)\")\n",
    "plt.show()"
   ]
  },
  {
   "cell_type": "code",
   "execution_count": 14,
   "id": "1fbd977e-20b6-4547-a641-f4b081703bd0",
   "metadata": {},
   "outputs": [
    {
     "data": {
      "image/png": "[encoded data removed]",
      "text/plain": [
       "<Figure size 1000x600 with 1 Axes>"
      ]
     },
     "metadata": {},
     "output_type": "display_data"
    }
   ],
   "source": [
    "# Box plot without outliers\n",
    "plt.figure(figsize=(10, 6))\n",
    "box2 = sns.boxplot(data=df, x=\"member_casual\", y=\"ride_duration\", showfliers=False)\n",
    "plt.title(\"Ride Duration by Member Type (Without Outliers Shown)\")\n",
    "plt.xlabel(\"User Type\")\n",
    "plt.ylabel(\"Ride Duration (minutes)\")\n",
    "plt.show()"
   ]
  },
  {
   "cell_type": "markdown",
   "id": "c6f47f3e-94da-4bb6-8227-659454ea0735",
   "metadata": {},
   "source": [
    "The first plot (with outliers) highlights the presence of extreme values in the ride_duration variable, especially for casual users. Some ride durations exceed 400,000 minutes (over 277 days), which are likely data errors or cases of unreturned bikes. These extreme outliers significantly distort the overall distribution and make it challenging to interpret the typical ride patterns of both user types. While members also have a few outliers, they are far less frequent and less extreme compared to casual users.\n",
    "\n",
    "The second plot (without outliers) provides a clearer view of the ride duration distributions. It shows that casual users tend to have longer and more variable ride durations compared to members, as reflected in their higher median and wider interquartile range (IQR). Members exhibit shorter and more consistent ride durations, likely indicative of routine commuting patterns. Removing outliers allows for more meaningful analysis, emphasizing the differences between the two user groups."
   ]
  },
  {
   "cell_type": "markdown",
   "id": "04d0e68a-5454-43d4-9b55-f8976e231cad",
   "metadata": {},
   "source": [
    "# 7. Think of how the FacetGrid plot would make sense to aid the analysis questions in the project. Create a FacetGrid and write 2 to 3 sentences analyzing what insight its output brings."
   ]
  },
  {
   "cell_type": "code",
   "execution_count": 17,
   "id": "e9dd4384-26ce-4421-9deb-1a6ef79afe1f",
   "metadata": {},
   "outputs": [
    {
     "data": {
      "image/png": "[encoded data removed]",
      "text/plain": [
       "<Figure size 600x300 with 2 Axes>"
      ]
     },
     "metadata": {},
     "output_type": "display_data"
    }
   ],
   "source": [
    "grid = sns.FacetGrid(df, col = \"member_casual\")\n",
    "grid.map(sns.histplot, \"rideable_type\", bins = 15)\n",
    "plt.show()"
   ]
  },
  {
   "cell_type": "markdown",
   "id": "33e8f872-f59c-42a2-96cc-2f84cb49d009",
   "metadata": {},
   "source": [
    "The FacetGrid shows the distribution of bike types (rideable_type) for members and casual users, allowing a comparison between the two user groups. Members predominantly use classic bikes, while electric bikes are used less frequently. In contrast, casual users also favor classic bikes, but the proportion of electric bike usage is noticeably higher compared to members.\n",
    "\n",
    "This plot highlights that classic bikes are the most commonly used type across both groups, but casual users are more likely to use electric bikes. This could suggest that casual users prefer electric bikes for convenience or longer rides, whereas members stick to classic bikes, potentially for routine commutes or affordability."
   ]
  },
  {
   "cell_type": "code",
   "execution_count": null,
   "id": "eea834c9-ce54-4497-8d8d-fad68f716736",
   "metadata": {},
   "outputs": [],
   "source": []
  }
 ],
 "metadata": {
  "kernelspec": {
   "display_name": "Python [conda env:venv_CitiBike]",
   "language": "python",
   "name": "conda-env-venv_CitiBike-py"
  },
  "language_info": {
   "codemirror_mode": {
    "name": "ipython",
    "version": 3
   },
   "file_extension": ".py",
   "mimetype": "text/x-python",
   "name": "python",
   "nbconvert_exporter": "python",
   "pygments_lexer": "ipython3",
   "version": "3.12.8"
  }
 },
 "nbformat": 4,
 "nbformat_minor": 5
}
