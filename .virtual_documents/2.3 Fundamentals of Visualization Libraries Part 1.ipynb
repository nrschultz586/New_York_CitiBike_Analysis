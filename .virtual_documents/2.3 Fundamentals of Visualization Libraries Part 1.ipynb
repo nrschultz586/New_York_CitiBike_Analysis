# import libraries
import pandas as pd
from matplotlib import pyplot as plt
import numpy as np
import os
from datetime import datetime as dt


import matplotlib
matplotlib.__version__


# Set agg.path.chunksize to Avoid Overflow

import matplotlib as mpl
mpl.rcParams['agg.path.chunksize'] = 10000


#set path
path = r'C:\Users\nrsmi\Documents\CareerFoundry\New_York_CitiBike_Analysis'


# import df
df = pd.read_csv(os.path.join(path, 'Data', 'Prepared_Data', 'NYCitiBike_Weather_Data.csv'), index_col = 0 )


df.head(5)





df.columns


df.shape


df.dtypes


df['date'] = pd.to_datetime(df['date'])


df.dtypes


# set the date column to be the index of the dataframe in a copy
df_temp = df.set_index('date')


df_temp.head()


df_temp['avgTemp'].plot()


df_temp.columns


#reset index and create average temperatures for each unique date

df_avgTemp_by_date = df_temp.groupby('date')['avgTemp'].mean().reset_index()


df_avgTemp_by_date.columns


#sort values by date
df_avgTemp_by_date = df_avgTemp_by_date.sort_values(by='date')


# set the index
df_avgTemp_by_date.set_index('date', inplace=True)


df_avgTemp_by_date.head()


#plot the data
df_avgTemp_by_date['avgTemp'].plot()


#add chart details to make the graph more easily understood
lineplot1 = df_avgTemp_by_date['avgTemp'].plot(
figsize=(12, 6),  # Larger size
    title='Average Temperatures in 2022',  # Title
    grid=True  # Gridlines
)
plt.xlabel('Date')
plt.ylabel('Average Temperature (°C)')
plt.show()


# save image to Visualizations folder
# lineplot1.figure.savefig(os.path.join(path, 'Visualizations', 'line_AvgTemp_by_Day.png'),dpi=300, bbox_inches='tight') # Save as PNG with high resolution








df.columns


# Groupby the count of the trips 

df_group = pd.DataFrame(df.groupby(['date'])['ride_id'].count()).reset_index()


df_group.head()


df_group.rename(columns = {'ride_id':'bike_rides_daily'}, inplace = True) #Renames the column trip_id in the df_group DataFrame to bike_rides_daily.
df = df.merge(df_group, on = "date", how = 'outer', indicator = True) # Merges df and df_group on the date column
print(df['_merge'].value_counts(dropna = False)) 
print("Shape of January 1st is", df[df['date'] == '2022-01-01'].shape) # Check 
print("Shape of January 2nd is", df[df['date'] == '2022-01-02'].shape) # Second check 

df_temp2 = df.set_index('date')

print(df_temp2.columns)


df_temp2.head()


lineplot2 = plt.figure(figsize=(10,5))
plt.title('Temperature per trips')
plt.plot(df_temp2['avgTemp'])
plt.plot(df_temp2['bike_rides_daily'], color = 'red')
plt.show()


#save image
#lineplot2.figure.savefig(os.path.join(path, 'Visualizations', 'line_Temperature_per_trip.png'),dpi=300, bbox_inches='tight') # Save as PNG with high resolution


#df_temp2.to_csv(os.path.join(path, 'Data','Prepared_Data', 'WeatherData_with_Bike_Rides_Daily.csv'))








# Create figure and axis objects with subplots()

fig,ax = plt.subplots(figsize=(10, 5))

# Make a plot of the bike rides
ax.plot(df_temp2['bike_rides_daily'],color = "red")


df_temp2.head(5)


df_temp2.columns


#the original dataset is too large and the values in avgTemp too many to graph properly, so we need to modify the dataset

df_temp3 = df_temp2.groupby('date').agg({
    'avgTemp': 'mean',  # Average temperature
    'bike_rides_daily': 'mean'  # Average bike rides daily
}).reset_index()


#sort values by date
df_temp3 = df_temp3.sort_values(by='date')

# set the index
df_temp3.set_index('date', inplace=True)

df_temp3.head()


# Create figure and axis objects with subplots()

fig,ax = plt.subplots(figsize=(10, 5))

# Make a plot of the bike rides
ax.plot(df_temp3['bike_rides_daily'],color = "red")
ax.plot(df_temp3['avgTemp'], color = 'blue')


# Create figure and axis objects with subplots()

fig,ax = plt.subplots(figsize=(10, 5))

# Make a plot of the bike rides
ax.plot(df_temp3['bike_rides_daily'],color = "red")

# Here is where we create the dual axis - initialize a twin object for two different y-axis on the sample plot
ax2 = ax.twinx()

# Make a plot with the temperatues on the y-axis using second axis object
ax2.plot(df_temp3["avgTemp"], color = "blue")
plt.show()


# Create figure and axis objects with subplots() and details

fig,ax = plt.subplots(figsize=(10, 5))

# Make a plot of the bike rides
ax.plot(df_temp3['bike_rides_daily'],color = "navy")
ax.set_xlabel("Year 2022", fontsize = 14) # set x-axis label
ax.set_ylabel("Bike rides daily",color = "navy", fontsize = 14) # set y-axis label

# Here is where we create the dual axis - initialize a twin object for two different y-axis on the sample plot
ax2 = ax.twinx()

# Make a plot with the temperatues on the y-axis using second axis object
ax2.plot(df_temp3["avgTemp"], color = "red")
ax2.set_ylabel("Average temperatures", color = "red",fontsize=14)
plt.title('Temperature and trips in 2022', fontsize = 18)
plt.show()



