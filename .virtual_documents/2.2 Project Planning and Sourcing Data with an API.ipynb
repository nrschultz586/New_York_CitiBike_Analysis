# import libraries
import pandas as pd
import numpy as np
import os
import requests
import json
from datetime import datetime


path = r'C:\Users\nrsmi\Documents\CareerFoundry\New_York_CitiBike_Analysis'


# Create a list with all files in the folder using a list comprehension

folderpath = r"Data\Original_Data" # make sure to put the 'r' in front
filepath = [os.path.join(folderpath, name) for name in os.listdir(folderpath)]


filepath





# Read and concatenate all files simultaneously
#df = pd.concat((pd.read_csv(f) for f in filepaths), ignore_index = True)

# upon trying to concatenate all files into one, it appears columns 5 and 7 have mixed types
# looking at the files, these columns are names/addresses, and can be read as strings


# Use pd.concat to combine all CSV files into one DataFrame.
# The generator expression reads each file in the 'filepath' list using pd.read_csv.
# The dtype={5: str, 7: str} ensures that columns 5 and 7 (0-indexed) are read as strings,
# which avoids issues with mixed data types (e.g., numbers and text in the same column).
# The ignore_index=True ensures the resulting DataFrame has a continuous, reindexed index.


df = pd.concat((pd.read_csv(f, dtype={5: str, 7: str}) for f in filepath), ignore_index=True)


df.head()





# df.to_csv(os.path.join(path,'Data','Prepared_Data' 'df_combined.csv'))





Token = 'TIpbnPmELRITsVkjUUxcLdfznXFMRRBt'


# Get the API

r = requests.get('https://www.ncdc.noaa.gov/cdo-web/api/v2/data?datasetid=GHCND&datatypeid=TAVG&limit=1000&stationid=GHCND:USW00014732&startdate=2022-01-01&enddate=2022-12-31', headers={'token':Token})


# Load the api response as a json

d = json.loads(r.text)


d


# Secure all items in the response that correspond to TAVG

avg_temps = [item for item in d['results'] if item['datatype']=='TAVG']


# Get only the date field from all average temperature readings

dates_temp = [item['date'] for item in avg_temps]


# Get the temperature from all average temperature readings

temps = [item['value'] for item in avg_temps]


temps


# Put the results in a dataframe

df_temp = pd.DataFrame()


# Get only date and cast it to date time; convert temperature from tenths of Celsius to normal Celsius

df_temp['date'] = [datetime.strptime(d, "%Y-%m-%dT%H:%M:%S") for d in dates_temp]
df_temp['avgTemp'] = [float(v)/10.0 for v in temps]


df_temp.tail()


df_temp.head()


df.dtypes


df['started_at'] = pd.to_datetime(df['started_at'], dayfirst = True)


df['date'] = pd.to_datetime(df['started_at'], format='%Y-%m-%d').dt.date


df['date'] = pd.to_datetime(df['date'])


%%time
df_merged = df.merge(df_temp, how = 'left', on = 'date', indicator = True)


df_merged.head()


df_merged['_merge'].value_counts(dropna = False)


left_only_rows = df_merged[df_merged['_merge'] == 'left_only']
left_only_rows


#drop lef_only rows since they are missing the temperature data that is necessary for the analysis
df_merged2 = df_merged[df_merged['_merge'] != 'left_only']
df_merged2['_merge'].value_counts(dropna = False)


# drop '_merge' since it is no longer necessary
df_merged2 = df_merged2.drop(columns=['_merge'])
df_merged2.head()


# df_merged2.to_csv(os.path.join(path, 'Data','Prepared_Data', 'df_merged.csv'))



