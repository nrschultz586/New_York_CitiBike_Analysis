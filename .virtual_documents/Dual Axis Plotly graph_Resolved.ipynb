# import libraries
# !pip install plotly
import pandas as pd
import numpy as np
import os
from plotly.subplots import make_subplots
import plotly.graph_objects as go
import matplotlib.pyplot as plt
from datetime import datetime as dt
import seaborn as sns
import warnings
warnings.simplefilter(action='ignore', category=FutureWarning)



#set path
#path = r'C:\Users\User\Downloads'

# import df
#df = pd.read_csv(os.path.join(path, 'avgTemp_BikeRidesDaily.csv'), index_col = 0 )


#set path
path = r'C:\Users\nrsmi\Documents\CareerFoundry\New_York_CitiBike_Analysis'

# import df
df = pd.read_csv(os.path.join(path, 'Data', 'Prepared_Data', 'avgTemp_BikeRidesDaily.csv'), index_col = 0 )


df.head()


# Clean data
df["date"] = pd.to_datetime(df["date"], format="%m/%d/%Y")


df.info()


# Create Plotly figure with secondary Y-axis
fig = make_subplots(specs=[[{"secondary_y": True}]])

# First trace: daily bike rides
fig.add_trace(
    go.Scatter(
        x=df['date'],
        y=df['bike_rides_daily'],
        name='Daily bike +rides',
        line=dict(color='blue')  # <--- Use line parameter instead of marker
    ),
    secondary_y=False
)

# Second trace: daily temperature
fig.add_trace(
    go.Scatter(
        x=df['date'],
        y=df['avgTemp'],
        name='Daily temperature',
        line=dict(color='red')   # <--- Same here
    ),
    secondary_y=True
)

# Optionally update axis titles
fig.update_xaxes(title_text="Date")
fig.update_yaxes(title_text="Daily Bike Rides", secondary_y=False)
fig.update_yaxes(title_text="Daily Temperature (°C)", secondary_y=True)

fig.show()



