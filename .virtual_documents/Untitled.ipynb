# import libraries
import pandas as pd
from matplotlib import pyplot as plt
import numpy as np
import os
from datetime import datetime as dt


import matplotlib
matplotlib.__version__


path = r'C:\Users\nrsmi\Documents\CareerFoundry\New_York_CitiBike_Analysis'


df = pd.read_csv(os.path.join(path, 'Data', 'Prepared_Data', 'NYCitiBike_Weather_Data.csv'))





df = pd.read_csv('chicago_data.csv', index_col = 0)
