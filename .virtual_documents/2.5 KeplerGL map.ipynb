# import libraries

import pandas as pd
import os
from keplergl import KeplerGl
from pyproj import CRS
import numpy as np
from matplotlib import pyplot as plt


#set path
path = r'C:\Users\nrsmi\Documents\CareerFoundry\New_York_CitiBike_Analysis'


# import df
df = pd.read_csv(os.path.join(path, 'Data', 'Prepared_Data', 'stations_lat_and_lng_trips.csv'), index_col = 0 )


duplicates = df[df.duplicated(subset=['start_station_name', 'end_station_name', 'trips'])]
duplicates


df = df.drop_duplicates(subset=['start_station_name', 'end_station_name', 'trips'])


df.shape





print(df.isnull().sum())


m = keplergl.KeplerGl(height=700, data={"data_1": df})
m


config = m.config


config


import json
with open("config.json", "w") as outfile:
    json.dump(config, outfile)


m.save_to_html(file_name = 'Bike Trips Aggregated.html', read_only = False, config = config)



