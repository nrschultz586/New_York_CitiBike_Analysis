# import libraries

import pandas as pd
import os
from keplergl import KeplerGl
from pyproj import CRS
import numpy as np
from matplotlib import pyplot as plt


#set path
path = r'C:\Users\nrsmi\Documents\CareerFoundry\New_York_CitiBike_Analysis'


# import df
df = pd.read_csv(os.path.join(path, 'Data', 'Prepared_Data', 'Weather_DailyBikeRides_RideDuration_cleaned.csv'), index_col = 0 )


df.head()


df.shape





# Create a value column and group by start and end station 

df['value'] = 1
df_group = df.groupby(['start_station_name', 'end_station_name'])['value'].count().reset_index()


df_group


print(df_group['value'].sum())
print(df.shape)


#df_group.to_csv(os.path.join(path, 'Data','Prepared_Data', 'start_end_station_trip_count.csv'))





# Create a new DataFrame with the necessary columns
df_stations = df[['start_station_name', 'end_station_name', 'start_lat', 'start_lng', 'end_lat', 'end_lng']]


df_stations.head()


# Merge the station df with the grouped df
df_stations = pd.merge(
    df_stations,
    df_group.rename(columns={'value': 'trips'}),
    on=['start_station_name', 'end_station_name'],
    how='left'  # Use 'left' to ensure all rows from df_stations are retained
)


df_stations.head()


print(df_stations['trips'].sum())
print(df.shape)





df_stations_dupes = df_stations[df_stations.duplicated(subset=['start_station_name', 'end_station_name', 'trips'])]


df_stations_dupes


df_stations_cleaned = df_stations.drop_duplicates(subset=['start_station_name', 'end_station_name', 'trips'])


df_stations_cleaned.head()


df_stations_cleaned.shape


# save the df_stations
#df_stations_cleaned.to_csv(os.path.join(path, 'Data','Prepared_Data', 'stations_lat_and_lng_trips.csv'))


import gc # this is garbage collector - speeds up performance
gc.collect()





# Create KeplerGl instance

m = KeplerGl(height = 700, data={"data_1": df_stations_cleaned})
m














config = m.config


config


# Define configuration to center map on New York City
config = {
    "version": "v1",
    "config": {
        "mapState": {
            "latitude": 40.7128,   # Latitude of NYC
            "longitude": -74.0060, # Longitude of NYC
            "zoom": 12,            # Adjust zoom level 
        }
    }
}
m.config = config


import json
with open("config.json", "w") as outfile:
    json.dump(config, outfile)


m.save_to_html(file_name = 'Bike Trips Aggregated.html', read_only = False, config = config)



