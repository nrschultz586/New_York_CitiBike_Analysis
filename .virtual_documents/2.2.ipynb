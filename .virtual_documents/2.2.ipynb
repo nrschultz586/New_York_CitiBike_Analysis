# import libraries
import pandas as pd
import numpy as np
import os
import requests
import json
from datetime import datetime


path = r'C:\Users\nrsmi\Documents\CareerFoundry\New_York_CitiBike_Analysis'


# Create a list with all files in the folder using a list comprehension

folderpath = r"Data" # make sure to put the 'r' in front
filepath = [os.path.join(folderpath, name) for name in os.listdir(folderpath)]


filepath





# Read and concatenate all files simultaneously
#df = pd.concat((pd.read_csv(f) for f in filepaths), ignore_index = True)

# upon trying to concatenate all files into one, it appears columns 5 and 7 have mixed types
# looking at the files, these columns are names/addresses, and can be read as strings


# Use pd.concat to combine all CSV files into one DataFrame.
# The generator expression reads each file in the 'filepath' list using pd.read_csv.
# The dtype={5: str, 7: str} ensures that columns 5 and 7 (0-indexed) are read as strings,
# which avoids issues with mixed data types (e.g., numbers and text in the same column).
# The ignore_index=True ensures the resulting DataFrame has a continuous, reindexed index.


df = pd.concat((pd.read_csv(f, dtype={5: str, 7: str}) for f in filepath), ignore_index=True)


df.head()





# df.to_csv(os.path.join(path, 'df_combined.csv'))
# too big, so switched to exporting as pkl file


df.to_pickle(os.path.join(path, 'df_merged.pkl'))



