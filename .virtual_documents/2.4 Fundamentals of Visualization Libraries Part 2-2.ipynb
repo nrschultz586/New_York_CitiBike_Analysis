# import libraries
import pandas as pd
from matplotlib import pyplot as plt
import numpy as np
import os
from datetime import datetime as dt
import seaborn as sns
import warnings
warnings.simplefilter(action='ignore', category=FutureWarning)


#set path
path = r'C:\Users\nrsmi\Documents\CareerFoundry\New_York_CitiBike_Analysis'
# import df
df = pd.read_csv(os.path.join(path, 'Data', 'Prepared_Data', 'Weather_DailyBikeRides_RideDuration.csv'), index_col = 0 )


df.head()


df.isnull().sum()


df.shape


# Drop rows with any null values
df = df.dropna()


df.head()


# Count rows where ride_duration is less than 1 minute
less_than_one_minute_count = (df['ride_duration'] < 1).sum()


less_than_one_minute_count


# Filter rows where ride_duration is more than 7 days
long_rides = df[df['ride_duration'] > 300080]


long_rides





# Create a box plot to compare ride durations by member type
box1 = sns.boxplot(data=df, x="member_casual", y="ride_duration")
plt.title("Ride Duration by Member Type")
plt.xlabel("User Type")
plt.ylabel("Ride Duration (minutes)")
plt.show()


# Box plot without outliers
plt.figure(figsize=(10, 6))
box2 = sns.boxplot(data=df, x="member_casual", y="ride_duration", showfliers=False)
plt.title("Ride Duration by Member Type (Without Outliers Shown)")
plt.xlabel("User Type")
plt.ylabel("Ride Duration (minutes)")
plt.show()








grid = sns.FacetGrid(df, col = "member_casual")
grid.map(sns.histplot, "rideable_type", bins = 15)
plt.show()






